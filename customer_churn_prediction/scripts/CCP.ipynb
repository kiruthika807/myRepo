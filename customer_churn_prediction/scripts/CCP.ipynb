{
 "cells": [
  {
   "cell_type": "markdown",
   "metadata": {
    "id": "0Rsq6ODopAKo"
   },
   "source": [
    "# **CUSTOMER CHURN PREDICTION**"
   ]
  },
  {
   "cell_type": "markdown",
   "metadata": {
    "id": "UiKlzQrSpNoK"
   },
   "source": [
    "## LIBRARIES"
   ]
  },
  {
   "cell_type": "code",
   "execution_count": null,
   "metadata": {
    "executionInfo": {
     "elapsed": 13782,
     "status": "ok",
     "timestamp": 1759477460099,
     "user": {
      "displayName": "kiruthika k",
      "userId": "04105857708486248499"
     },
     "user_tz": -330
    },
    "id": "qjLTE3SnprK6"
   },
   "outputs": [],
   "source": [
    "import pandas as pd\n",
    "import numpy as np\n",
    "import missingno as msno\n",
    "import matplotlib.pyplot as plt\n",
    "import seaborn as sns\n",
    "import plotly.express as px\n",
    "import plotly.graph_objects as go\n",
    "from plotly.subplots import make_subplots\n",
    "import warnings\n",
    "warnings.filterwarnings('ignore')"
   ]
  },
  {
   "cell_type": "code",
   "execution_count": 2,
   "metadata": {
    "executionInfo": {
     "elapsed": 8426,
     "status": "ok",
     "timestamp": 1759477468528,
     "user": {
      "displayName": "kiruthika k",
      "userId": "04105857708486248499"
     },
     "user_tz": -330
    },
    "id": "2vaPYOaaprQO"
   },
   "outputs": [],
   "source": [
    "from sklearn.preprocessing import StandardScaler\n",
    "from sklearn.preprocessing import LabelEncoder\n",
    "from sklearn.tree import DecisionTreeClassifier\n",
    "from sklearn.ensemble import RandomForestClassifier\n",
    "from sklearn.neighbors import KNeighborsClassifier\n",
    "from sklearn.linear_model import LogisticRegression\n",
    "from sklearn.model_selection import train_test_split\n",
    "from sklearn.metrics import accuracy_score\n",
    "from sklearn import metrics\n",
    "from sklearn.metrics import roc_curve\n",
    "from sklearn.metrics import recall_score, confusion_matrix, precision_score, f1_score, accuracy_score, classification_report\n",
    "#from imblearn.combine import SMOTEENN\n",
    "from sklearn.feature_selection import SelectKBest\n",
    "from collections import Counter\n",
    "from sklearn.preprocessing import MinMaxScaler\n",
    "from keras.models import Sequential\n",
    "from keras.layers import Dense, LSTM, Dropout, GRU, Bidirectional\n",
    "from keras.optimizers import SGD"
   ]
  },
  {
   "cell_type": "markdown",
   "metadata": {
    "id": "NpBKUgzet855"
   },
   "source": [
    "## Undertanding the data"
   ]
  },
  {
   "cell_type": "code",
   "execution_count": 4,
   "metadata": {
    "colab": {
     "base_uri": "https://localhost:8080/"
    },
    "executionInfo": {
     "elapsed": 24240,
     "status": "ok",
     "timestamp": 1759477594068,
     "user": {
      "displayName": "kiruthika k",
      "userId": "04105857708486248499"
     },
     "user_tz": -330
    },
    "id": "3EWCPLvyprTM",
    "outputId": "59154756-1f06-48c0-80ac-66bba9c9d7e0"
   },
   "outputs": [
    {
     "name": "stdout",
     "output_type": "stream",
     "text": [
      "Mounted at /content/drive\n"
     ]
    }
   ],
   "source": [
    "from google.colab import drive\n",
    "drive.mount('/content/drive')"
   ]
  },
  {
   "cell_type": "code",
   "execution_count": 7,
   "metadata": {
    "colab": {
     "base_uri": "https://localhost:8080/",
     "height": 304
    },
    "executionInfo": {
     "elapsed": 32,
     "status": "error",
     "timestamp": 1759477612348,
     "user": {
      "displayName": "kiruthika k",
      "userId": "04105857708486248499"
     },
     "user_tz": -330
    },
    "id": "lOOocq-mtjx3",
    "outputId": "21396d8c-72b6-4aa1-9c93-79ac1273f533"
   },
   "outputs": [
    {
     "ename": "FileNotFoundError",
     "evalue": "[Errno 2] No such file or directory: '/content/drive/MyDrive/WA_Fn-UseC_-Telco-Customer-Churn.csv'",
     "output_type": "error",
     "traceback": [
      "\u001b[0;31m---------------------------------------------------------------------------\u001b[0m",
      "\u001b[0;31mFileNotFoundError\u001b[0m                         Traceback (most recent call last)",
      "\u001b[0;32m/tmp/ipython-input-3913918526.py\u001b[0m in \u001b[0;36m<cell line: 0>\u001b[0;34m()\u001b[0m\n\u001b[0;32m----> 1\u001b[0;31m \u001b[0mdf\u001b[0m \u001b[0;34m=\u001b[0m \u001b[0mpd\u001b[0m\u001b[0;34m.\u001b[0m\u001b[0mread_csv\u001b[0m\u001b[0;34m(\u001b[0m\u001b[0;34m\"/content/drive/MyDrive/WA_Fn-UseC_-Telco-Customer-Churn.csv\"\u001b[0m\u001b[0;34m)\u001b[0m\u001b[0;34m\u001b[0m\u001b[0;34m\u001b[0m\u001b[0m\n\u001b[0m\u001b[1;32m      2\u001b[0m \u001b[0mdf\u001b[0m\u001b[0;34m.\u001b[0m\u001b[0mhead\u001b[0m\u001b[0;34m(\u001b[0m\u001b[0;36m5\u001b[0m\u001b[0;34m)\u001b[0m\u001b[0;34m\u001b[0m\u001b[0;34m\u001b[0m\u001b[0m\n",
      "\u001b[0;32m/usr/local/lib/python3.12/dist-packages/pandas/io/parsers/readers.py\u001b[0m in \u001b[0;36mread_csv\u001b[0;34m(filepath_or_buffer, sep, delimiter, header, names, index_col, usecols, dtype, engine, converters, true_values, false_values, skipinitialspace, skiprows, skipfooter, nrows, na_values, keep_default_na, na_filter, verbose, skip_blank_lines, parse_dates, infer_datetime_format, keep_date_col, date_parser, date_format, dayfirst, cache_dates, iterator, chunksize, compression, thousands, decimal, lineterminator, quotechar, quoting, doublequote, escapechar, comment, encoding, encoding_errors, dialect, on_bad_lines, delim_whitespace, low_memory, memory_map, float_precision, storage_options, dtype_backend)\u001b[0m\n\u001b[1;32m   1024\u001b[0m     \u001b[0mkwds\u001b[0m\u001b[0;34m.\u001b[0m\u001b[0mupdate\u001b[0m\u001b[0;34m(\u001b[0m\u001b[0mkwds_defaults\u001b[0m\u001b[0;34m)\u001b[0m\u001b[0;34m\u001b[0m\u001b[0;34m\u001b[0m\u001b[0m\n\u001b[1;32m   1025\u001b[0m \u001b[0;34m\u001b[0m\u001b[0m\n\u001b[0;32m-> 1026\u001b[0;31m     \u001b[0;32mreturn\u001b[0m \u001b[0m_read\u001b[0m\u001b[0;34m(\u001b[0m\u001b[0mfilepath_or_buffer\u001b[0m\u001b[0;34m,\u001b[0m \u001b[0mkwds\u001b[0m\u001b[0;34m)\u001b[0m\u001b[0;34m\u001b[0m\u001b[0;34m\u001b[0m\u001b[0m\n\u001b[0m\u001b[1;32m   1027\u001b[0m \u001b[0;34m\u001b[0m\u001b[0m\n\u001b[1;32m   1028\u001b[0m \u001b[0;34m\u001b[0m\u001b[0m\n",
      "\u001b[0;32m/usr/local/lib/python3.12/dist-packages/pandas/io/parsers/readers.py\u001b[0m in \u001b[0;36m_read\u001b[0;34m(filepath_or_buffer, kwds)\u001b[0m\n\u001b[1;32m    618\u001b[0m \u001b[0;34m\u001b[0m\u001b[0m\n\u001b[1;32m    619\u001b[0m     \u001b[0;31m# Create the parser.\u001b[0m\u001b[0;34m\u001b[0m\u001b[0;34m\u001b[0m\u001b[0m\n\u001b[0;32m--> 620\u001b[0;31m     \u001b[0mparser\u001b[0m \u001b[0;34m=\u001b[0m \u001b[0mTextFileReader\u001b[0m\u001b[0;34m(\u001b[0m\u001b[0mfilepath_or_buffer\u001b[0m\u001b[0;34m,\u001b[0m \u001b[0;34m**\u001b[0m\u001b[0mkwds\u001b[0m\u001b[0;34m)\u001b[0m\u001b[0;34m\u001b[0m\u001b[0;34m\u001b[0m\u001b[0m\n\u001b[0m\u001b[1;32m    621\u001b[0m \u001b[0;34m\u001b[0m\u001b[0m\n\u001b[1;32m    622\u001b[0m     \u001b[0;32mif\u001b[0m \u001b[0mchunksize\u001b[0m \u001b[0;32mor\u001b[0m \u001b[0miterator\u001b[0m\u001b[0;34m:\u001b[0m\u001b[0;34m\u001b[0m\u001b[0;34m\u001b[0m\u001b[0m\n",
      "\u001b[0;32m/usr/local/lib/python3.12/dist-packages/pandas/io/parsers/readers.py\u001b[0m in \u001b[0;36m__init__\u001b[0;34m(self, f, engine, **kwds)\u001b[0m\n\u001b[1;32m   1618\u001b[0m \u001b[0;34m\u001b[0m\u001b[0m\n\u001b[1;32m   1619\u001b[0m         \u001b[0mself\u001b[0m\u001b[0;34m.\u001b[0m\u001b[0mhandles\u001b[0m\u001b[0;34m:\u001b[0m \u001b[0mIOHandles\u001b[0m \u001b[0;34m|\u001b[0m \u001b[0;32mNone\u001b[0m \u001b[0;34m=\u001b[0m \u001b[0;32mNone\u001b[0m\u001b[0;34m\u001b[0m\u001b[0;34m\u001b[0m\u001b[0m\n\u001b[0;32m-> 1620\u001b[0;31m         \u001b[0mself\u001b[0m\u001b[0;34m.\u001b[0m\u001b[0m_engine\u001b[0m \u001b[0;34m=\u001b[0m \u001b[0mself\u001b[0m\u001b[0;34m.\u001b[0m\u001b[0m_make_engine\u001b[0m\u001b[0;34m(\u001b[0m\u001b[0mf\u001b[0m\u001b[0;34m,\u001b[0m \u001b[0mself\u001b[0m\u001b[0;34m.\u001b[0m\u001b[0mengine\u001b[0m\u001b[0;34m)\u001b[0m\u001b[0;34m\u001b[0m\u001b[0;34m\u001b[0m\u001b[0m\n\u001b[0m\u001b[1;32m   1621\u001b[0m \u001b[0;34m\u001b[0m\u001b[0m\n\u001b[1;32m   1622\u001b[0m     \u001b[0;32mdef\u001b[0m \u001b[0mclose\u001b[0m\u001b[0;34m(\u001b[0m\u001b[0mself\u001b[0m\u001b[0;34m)\u001b[0m \u001b[0;34m->\u001b[0m \u001b[0;32mNone\u001b[0m\u001b[0;34m:\u001b[0m\u001b[0;34m\u001b[0m\u001b[0;34m\u001b[0m\u001b[0m\n",
      "\u001b[0;32m/usr/local/lib/python3.12/dist-packages/pandas/io/parsers/readers.py\u001b[0m in \u001b[0;36m_make_engine\u001b[0;34m(self, f, engine)\u001b[0m\n\u001b[1;32m   1878\u001b[0m                 \u001b[0;32mif\u001b[0m \u001b[0;34m\"b\"\u001b[0m \u001b[0;32mnot\u001b[0m \u001b[0;32min\u001b[0m \u001b[0mmode\u001b[0m\u001b[0;34m:\u001b[0m\u001b[0;34m\u001b[0m\u001b[0;34m\u001b[0m\u001b[0m\n\u001b[1;32m   1879\u001b[0m                     \u001b[0mmode\u001b[0m \u001b[0;34m+=\u001b[0m \u001b[0;34m\"b\"\u001b[0m\u001b[0;34m\u001b[0m\u001b[0;34m\u001b[0m\u001b[0m\n\u001b[0;32m-> 1880\u001b[0;31m             self.handles = get_handle(\n\u001b[0m\u001b[1;32m   1881\u001b[0m                 \u001b[0mf\u001b[0m\u001b[0;34m,\u001b[0m\u001b[0;34m\u001b[0m\u001b[0;34m\u001b[0m\u001b[0m\n\u001b[1;32m   1882\u001b[0m                 \u001b[0mmode\u001b[0m\u001b[0;34m,\u001b[0m\u001b[0;34m\u001b[0m\u001b[0;34m\u001b[0m\u001b[0m\n",
      "\u001b[0;32m/usr/local/lib/python3.12/dist-packages/pandas/io/common.py\u001b[0m in \u001b[0;36mget_handle\u001b[0;34m(path_or_buf, mode, encoding, compression, memory_map, is_text, errors, storage_options)\u001b[0m\n\u001b[1;32m    871\u001b[0m         \u001b[0;32mif\u001b[0m \u001b[0mioargs\u001b[0m\u001b[0;34m.\u001b[0m\u001b[0mencoding\u001b[0m \u001b[0;32mand\u001b[0m \u001b[0;34m\"b\"\u001b[0m \u001b[0;32mnot\u001b[0m \u001b[0;32min\u001b[0m \u001b[0mioargs\u001b[0m\u001b[0;34m.\u001b[0m\u001b[0mmode\u001b[0m\u001b[0;34m:\u001b[0m\u001b[0;34m\u001b[0m\u001b[0;34m\u001b[0m\u001b[0m\n\u001b[1;32m    872\u001b[0m             \u001b[0;31m# Encoding\u001b[0m\u001b[0;34m\u001b[0m\u001b[0;34m\u001b[0m\u001b[0m\n\u001b[0;32m--> 873\u001b[0;31m             handle = open(\n\u001b[0m\u001b[1;32m    874\u001b[0m                 \u001b[0mhandle\u001b[0m\u001b[0;34m,\u001b[0m\u001b[0;34m\u001b[0m\u001b[0;34m\u001b[0m\u001b[0m\n\u001b[1;32m    875\u001b[0m                 \u001b[0mioargs\u001b[0m\u001b[0;34m.\u001b[0m\u001b[0mmode\u001b[0m\u001b[0;34m,\u001b[0m\u001b[0;34m\u001b[0m\u001b[0;34m\u001b[0m\u001b[0m\n",
      "\u001b[0;31mFileNotFoundError\u001b[0m: [Errno 2] No such file or directory: '/content/drive/MyDrive/WA_Fn-UseC_-Telco-Customer-Churn.csv'"
     ]
    }
   ],
   "source": [
    "df = pd.read_csv(\"/content/drive/MyDrive/WA_Fn-UseC_-Telco-Customer-Churn.csv\")\n",
    "df.head(5)"
   ]
  },
  {
   "cell_type": "code",
   "execution_count": null,
   "metadata": {
    "executionInfo": {
     "elapsed": 57269,
     "status": "aborted",
     "timestamp": 1759477503252,
     "user": {
      "displayName": "kiruthika k",
      "userId": "04105857708486248499"
     },
     "user_tz": -330
    },
    "id": "GUJ5ukiAt48G"
   },
   "outputs": [],
   "source": [
    "df.shape"
   ]
  },
  {
   "cell_type": "code",
   "execution_count": null,
   "metadata": {
    "executionInfo": {
     "elapsed": 57262,
     "status": "aborted",
     "timestamp": 1759477503254,
     "user": {
      "displayName": "kiruthika k",
      "userId": "04105857708486248499"
     },
     "user_tz": -330
    },
    "id": "6DVt9FROuSG_"
   },
   "outputs": [],
   "source": [
    "df.info()"
   ]
  },
  {
   "cell_type": "code",
   "execution_count": null,
   "metadata": {
    "executionInfo": {
     "elapsed": 57254,
     "status": "aborted",
     "timestamp": 1759477503256,
     "user": {
      "displayName": "kiruthika k",
      "userId": "04105857708486248499"
     },
     "user_tz": -330
    },
    "id": "voR2IZduuXpS"
   },
   "outputs": [],
   "source": [
    "df.columns.values"
   ]
  },
  {
   "cell_type": "markdown",
   "metadata": {
    "id": "E_O1irfJumhr"
   },
   "source": [
    "## DATA MANIPULATION"
   ]
  },
  {
   "cell_type": "code",
   "execution_count": null,
   "metadata": {
    "executionInfo": {
     "elapsed": 57261,
     "status": "aborted",
     "timestamp": 1759477503269,
     "user": {
      "displayName": "kiruthika k",
      "userId": "04105857708486248499"
     },
     "user_tz": -330
    },
    "id": "JJzj3l7iuXv2"
   },
   "outputs": [],
   "source": [
    "df = df.drop(['customerID'], axis = 1)\n",
    "df.head()"
   ]
  },
  {
   "cell_type": "markdown",
   "metadata": {
    "id": "tP6mVE-c3aTm"
   },
   "source": [
    "Here we see that the TotalCharges has 11 missing values\n"
   ]
  },
  {
   "cell_type": "code",
   "execution_count": null,
   "metadata": {
    "executionInfo": {
     "elapsed": 57453,
     "status": "aborted",
     "timestamp": 1759477503470,
     "user": {
      "displayName": "kiruthika k",
      "userId": "04105857708486248499"
     },
     "user_tz": -330
    },
    "id": "VJ3U88vjuXzw"
   },
   "outputs": [],
   "source": [
    "df['TotalCharges'] = pd.to_numeric(df.TotalCharges, errors='coerce')\n",
    "df.isnull().sum()"
   ]
  },
  {
   "cell_type": "markdown",
   "metadata": {
    "id": "LyRnO2qw4J7s"
   },
   "source": [
    " selecting rows from the DataFrame df where the 'TotalCharges' column contains NaN values.\n"
   ]
  },
  {
   "cell_type": "code",
   "execution_count": null,
   "metadata": {
    "executionInfo": {
     "elapsed": 57465,
     "status": "aborted",
     "timestamp": 1759477503492,
     "user": {
      "displayName": "kiruthika k",
      "userId": "04105857708486248499"
     },
     "user_tz": -330
    },
    "id": "DmYKKvoPu2bH"
   },
   "outputs": [],
   "source": [
    "df[np.isnan(df['TotalCharges'])]"
   ]
  },
  {
   "cell_type": "markdown",
   "metadata": {
    "id": "V8AlETx_7haG"
   },
   "source": [
    "the index labels of the rows where the 'tenure' column has a value of 0 in the DataFrame df"
   ]
  },
  {
   "cell_type": "code",
   "execution_count": null,
   "metadata": {
    "executionInfo": {
     "elapsed": 57459,
     "status": "aborted",
     "timestamp": 1759477503494,
     "user": {
      "displayName": "kiruthika k",
      "userId": "04105857708486248499"
     },
     "user_tz": -330
    },
    "id": "JwSM9fE4u_2j"
   },
   "outputs": [],
   "source": [
    "df[df['tenure'] == 0].index"
   ]
  },
  {
   "cell_type": "markdown",
   "metadata": {
    "id": "_MAQSjEIvIpc"
   },
   "source": [
    "There are no additional missing values in the Tenure column.\n",
    "Let's delete the rows with missing values in Tenure columns since there are only 11 rows and deleting them will not affect the data.\n",
    "1st-> code drops the rows from the df where the 'tenure' column has a value of 0\n",
    "\n",
    "2nd->index verifies if there are still rows with 'tenure' equal to 0."
   ]
  },
  {
   "cell_type": "code",
   "execution_count": null,
   "metadata": {
    "executionInfo": {
     "elapsed": 57454,
     "status": "aborted",
     "timestamp": 1759477503496,
     "user": {
      "displayName": "kiruthika k",
      "userId": "04105857708486248499"
     },
     "user_tz": -330
    },
    "id": "7d1n2_oPvFvs"
   },
   "outputs": [],
   "source": [
    "df.drop(labels=df[df['tenure'] == 0].index, axis=0, inplace=True)\n",
    "df[df['tenure'] == 0].index"
   ]
  },
  {
   "cell_type": "markdown",
   "metadata": {
    "id": "A6RTB3RC--R8"
   },
   "source": [
    " then verify that there are no missing values left by checking df.isnull().sum() again"
   ]
  },
  {
   "cell_type": "code",
   "execution_count": null,
   "metadata": {
    "executionInfo": {
     "elapsed": 57449,
     "status": "aborted",
     "timestamp": 1759477503497,
     "user": {
      "displayName": "kiruthika k",
      "userId": "04105857708486248499"
     },
     "user_tz": -330
    },
    "id": "7CS55S3gvYMO"
   },
   "outputs": [],
   "source": [
    "print(df.isnull().sum())\n",
    "print(df.shape)"
   ]
  },
  {
   "cell_type": "markdown",
   "metadata": {
    "id": "gPnVYAhXvkoR"
   },
   "source": [
    "mapping the senior citizen\n",
    "No - 0\n",
    "yes - 1"
   ]
  },
  {
   "cell_type": "code",
   "execution_count": null,
   "metadata": {
    "executionInfo": {
     "elapsed": 57444,
     "status": "aborted",
     "timestamp": 1759477503499,
     "user": {
      "displayName": "kiruthika k",
      "userId": "04105857708486248499"
     },
     "user_tz": -330
    },
    "id": "8vhqVQhjvi2c"
   },
   "outputs": [],
   "source": [
    "df[\"SeniorCitizen\"]= df[\"SeniorCitizen\"].map({0: \"No\", 1: \"Yes\"})\n",
    "df.head()"
   ]
  },
  {
   "cell_type": "code",
   "execution_count": null,
   "metadata": {
    "executionInfo": {
     "elapsed": 57439,
     "status": "aborted",
     "timestamp": 1759477503501,
     "user": {
      "displayName": "kiruthika k",
      "userId": "04105857708486248499"
     },
     "user_tz": -330
    },
    "id": "gRvt_s83vygf"
   },
   "outputs": [],
   "source": [
    "numerical_cols = ['tenure', 'MonthlyCharges', 'TotalCharges']\n",
    "df[numerical_cols].describe()"
   ]
  },
  {
   "cell_type": "markdown",
   "metadata": {
    "id": "44UE2Wcev6O-"
   },
   "source": [
    "## DATA VISUALIZATION"
   ]
  },
  {
   "cell_type": "code",
   "execution_count": null,
   "metadata": {
    "executionInfo": {
     "elapsed": 57436,
     "status": "aborted",
     "timestamp": 1759477503503,
     "user": {
      "displayName": "kiruthika k",
      "userId": "04105857708486248499"
     },
     "user_tz": -330
    },
    "id": "HiPUIuBYv1BN"
   },
   "outputs": [],
   "source": [
    "g_labels = ['Male', 'Female']\n",
    "c_labels = ['No', 'Yes']\n",
    "# Create subplots: use 'domain' type for Pie subplot\n",
    "fig = make_subplots(rows=1, cols=2, specs=[[{'type':'domain'}, {'type':'domain'}]])\n",
    "fig.add_trace(go.Pie(labels=g_labels, values=df['gender'].value_counts(), name=\"Gender\"),\n",
    "              1, 1)\n",
    "fig.add_trace(go.Pie(labels=c_labels, values=df['Churn'].value_counts(), name=\"Churn\"),\n",
    "              1, 2)\n",
    "\n",
    "# Use `hole` to create a donut-like pie chart\n",
    "fig.update_traces(hole=.4, hoverinfo=\"label+percent+name\", textfont_size=16)\n"
   ]
  },
  {
   "cell_type": "markdown",
   "metadata": {
    "id": "pzEi8LRbwHyS"
   },
   "source": [
    "*   26.6 % of customers switched to another firm.\n",
    "\n",
    "*   Customers are 49.5 % female and 50.5 % male.\n",
    "\n"
   ]
  },
  {
   "cell_type": "code",
   "execution_count": null,
   "metadata": {
    "executionInfo": {
     "elapsed": 57432,
     "status": "aborted",
     "timestamp": 1759477503504,
     "user": {
      "displayName": "kiruthika k",
      "userId": "04105857708486248499"
     },
     "user_tz": -330
    },
    "id": "nm1uGrgkwUAE"
   },
   "outputs": [],
   "source": [
    "plt.figure(figsize=(6, 6))\n",
    "labels =[\"Churn: Yes\",\"Churn:No\"]\n",
    "values = [1869,5163]\n",
    "labels_gender = [\"F\",\"M\",\"F\",\"M\"]\n",
    "sizes_gender = [939,930 , 2544,2619]\n",
    "colors = ['#ff6666', '#66b3ff']\n",
    "colors_gender = ['#c2c2f0','#ffb3e6', '#c2c2f0','#ffb3e6']\n",
    "explode = (0.3,0.3)\n",
    "explode_gender = (0.1,0.1,0.1,0.1)\n",
    "textprops = {\"fontsize\":15}\n",
    "plt.pie(values, labels=labels,autopct='%1.1f%%',pctdistance=1.08, labeldistance=0.8,colors=colors, startangle=90,frame=True, explode=explode,radius=10, textprops =textprops, counterclock = True, )\n",
    "plt.pie(sizes_gender,labels=labels_gender,colors=colors_gender,startangle=90, explode=explode_gender,radius=7, textprops =textprops, counterclock = True, )\n",
    "#Draw circle\n",
    "centre_circle = plt.Circle((0,0),5,color='black', fc='white',linewidth=0)\n",
    "fig = plt.gcf()\n",
    "fig.gca().add_artist(centre_circle)\n",
    "\n",
    "plt.title('Churn Distribution on Gender: Male(M), Female(F)', fontsize=15, y=1.1)\n",
    "plt.axis('equal')\n",
    "plt.tight_layout()\n",
    "plt.show()"
   ]
  },
  {
   "cell_type": "markdown",
   "metadata": {
    "id": "y2rqsBBuwhnJ"
   },
   "source": [
    "There is negligible difference in customer percentage/ count who chnaged the service provider. Both genders behaved in similar fashion when it comes to migrating to another service provider/firm."
   ]
  },
  {
   "cell_type": "code",
   "execution_count": null,
   "metadata": {
    "executionInfo": {
     "elapsed": 57426,
     "status": "aborted",
     "timestamp": 1759477503506,
     "user": {
      "displayName": "kiruthika k",
      "userId": "04105857708486248499"
     },
     "user_tz": -330
    },
    "id": "OViWIIOOwisN"
   },
   "outputs": [],
   "source": [
    "fig = px.histogram(df, x=\"Churn\", color=\"Contract\", barmode=\"group\", title=\"<b>Customer contract distribution<b>\")\n",
    "fig.update_layout(width=700, height=500, bargap=0.1)\n",
    "fig.show()"
   ]
  },
  {
   "cell_type": "markdown",
   "metadata": {
    "id": "bGaNnz9GwoKv"
   },
   "source": [
    "About 75% of customer with Month-to-Month Contract opted to move out as compared to 13% of customrs with One Year Contract and 3% with Two Year Contract"
   ]
  },
  {
   "cell_type": "code",
   "execution_count": null,
   "metadata": {
    "executionInfo": {
     "elapsed": 57420,
     "status": "aborted",
     "timestamp": 1759477503508,
     "user": {
      "displayName": "kiruthika k",
      "userId": "04105857708486248499"
     },
     "user_tz": -330
    },
    "id": "BM5Q18Z9ww5S"
   },
   "outputs": [],
   "source": [
    "fig = px.histogram(df, x=\"Churn\", color=\"PaymentMethod\", title=\"<b>Customer Payment Method distribution Churn</b>\")\n",
    "fig.update_layout(width=700, height=500, bargap=0.1)\n",
    "fig.show()"
   ]
  },
  {
   "cell_type": "markdown",
   "metadata": {
    "id": "oE9-fCOww019"
   },
   "source": [
    "\n",
    "\n",
    "1.   Major customers who moved out were having Electronic Check as Payment Method.\n",
    "2.   Customers who opted for Credit-Card automatic transfer or Bank Automatic Transfer and Mailed Check as Payment Method were less likely to move out."
   ]
  },
  {
   "cell_type": "code",
   "execution_count": null,
   "metadata": {
    "executionInfo": {
     "elapsed": 57413,
     "status": "aborted",
     "timestamp": 1759477503509,
     "user": {
      "displayName": "kiruthika k",
      "userId": "04105857708486248499"
     },
     "user_tz": -330
    },
    "id": "O_nfMNA0xA_q"
   },
   "outputs": [],
   "source": [
    "fig = go.Figure()\n",
    "\n",
    "fig.add_trace(go.Bar(\n",
    "  x = ['Churn:No', 'Churn:Yes'],\n",
    "  y = [965+992, 219+240],\n",
    "  name = 'DSL',\n",
    "))\n",
    "\n",
    "fig.add_trace(go.Bar(\n",
    "  x = ['Churn:No', 'Churn:Yes'],\n",
    "  y = [889+910, 664+633],\n",
    "  name = 'Fiber optic',\n",
    "))\n",
    "\n",
    "fig.add_trace(go.Bar(\n",
    "  x = ['Churn:No', 'Churn:Yes'],\n",
    "  y = [690+717, 56+57],\n",
    "  name = 'No Internet',\n",
    "))\n",
    "\n",
    "fig.update_layout(width=700, height=500, bargap=0.1, title_text=\"<b>Churn Distribution on Internet Service and Gender</b>\")\n",
    "\n",
    "fig.show()\n"
   ]
  },
  {
   "cell_type": "markdown",
   "metadata": {
    "id": "5dtKIpwbxNNs"
   },
   "source": [
    "\n",
    "1.   A lot of customers choose the Fiber optic service and it's also evident that the customers who use Fiber optic have high churn rate, this might suggest a dissatisfaction with this type of internet service.\n"
   ]
  },
  {
   "cell_type": "code",
   "execution_count": null,
   "metadata": {
    "executionInfo": {
     "elapsed": 57407,
     "status": "aborted",
     "timestamp": 1759477503511,
     "user": {
      "displayName": "kiruthika k",
      "userId": "04105857708486248499"
     },
     "user_tz": -330
    },
    "id": "FUNTu5snxT_K"
   },
   "outputs": [],
   "source": [
    "color_map = {\"Yes\", \"No\"}\n",
    "fig = px.histogram(df, x=\"Churn\", color=\"Dependents\", barmode=\"group\", title=\"<b>Dependents distribution</b>\")\n",
    "fig.update_layout(width=700, height=500, bargap=0.1)\n",
    "fig.show()"
   ]
  },
  {
   "cell_type": "markdown",
   "metadata": {
    "id": "6Z1F-zpDxZ5P"
   },
   "source": [
    "Customers without dependents are more likely to churn"
   ]
  },
  {
   "cell_type": "markdown",
   "metadata": {
    "id": "EaXtjx3LxgWz"
   },
   "source": [
    "1.  It can be observed that the fraction of senior citizen is very less.\n",
    "\n",
    "2.   Most of the senior citizens churn\n",
    "\n"
   ]
  },
  {
   "cell_type": "markdown",
   "metadata": {
    "id": "YClGVvDP1PXB"
   },
   "source": [
    "## Data Preprocessing\n",
    "# Splitting the data into train and test sets"
   ]
  },
  {
   "cell_type": "markdown",
   "metadata": {
    "id": "zTJ8sN702UkN"
   },
   "source": [
    "This function `object_to_int` takes a series df and checks if its data type is 'object'. If it is, it uses LabelEncoder to transform categorical data into integers. Finally, it returns the modified series."
   ]
  },
  {
   "cell_type": "code",
   "execution_count": null,
   "metadata": {
    "executionInfo": {
     "elapsed": 57407,
     "status": "aborted",
     "timestamp": 1759477503512,
     "user": {
      "displayName": "kiruthika k",
      "userId": "04105857708486248499"
     },
     "user_tz": -330
    },
    "id": "QpjbilZFx9YG"
   },
   "outputs": [],
   "source": [
    "def object_to_int(dataframe_series):\n",
    "    if dataframe_series.dtype=='object':\n",
    "        dataframe_series = LabelEncoder().fit_transform(dataframe_series)\n",
    "    return dataframe_series"
   ]
  },
  {
   "cell_type": "markdown",
   "metadata": {
    "id": "It9_rGe83IZX"
   },
   "source": [
    "This code applies `object_to_int` to each column of df converting categorical data into integers using LabelEncoder. Then, it display first few rows"
   ]
  },
  {
   "cell_type": "code",
   "execution_count": null,
   "metadata": {
    "executionInfo": {
     "elapsed": 57400,
     "status": "aborted",
     "timestamp": 1759477503513,
     "user": {
      "displayName": "kiruthika k",
      "userId": "04105857708486248499"
     },
     "user_tz": -330
    },
    "id": "EbDlveFDyED3"
   },
   "outputs": [],
   "source": [
    "df = df.apply(lambda x: object_to_int(x))\n",
    "df.head()"
   ]
  },
  {
   "cell_type": "code",
   "execution_count": null,
   "metadata": {
    "executionInfo": {
     "elapsed": 57400,
     "status": "aborted",
     "timestamp": 1759477503514,
     "user": {
      "displayName": "kiruthika k",
      "userId": "04105857708486248499"
     },
     "user_tz": -330
    },
    "id": "PW_1eddRyNnW"
   },
   "outputs": [],
   "source": [
    "X = df.drop(columns = ['Churn'])\n",
    "y = df['Churn'].values\n",
    "X_train, X_test, y_train, y_test = train_test_split(X,y,test_size = 0.8, random_state = 4, stratify=y)"
   ]
  },
  {
   "cell_type": "code",
   "execution_count": null,
   "metadata": {
    "executionInfo": {
     "elapsed": 57394,
     "status": "aborted",
     "timestamp": 1759477503516,
     "user": {
      "displayName": "kiruthika k",
      "userId": "04105857708486248499"
     },
     "user_tz": -330
    },
    "id": "f91GcnxMxB9S"
   },
   "outputs": [],
   "source": [
    "def distplot(feature, frame, color='r'):\n",
    "    plt.figure(figsize=(8,3))\n",
    "    plt.title(\"Distribution for {}\".format(feature))\n",
    "    ax = sns.distplot(frame[feature], color= color)\n",
    "num_cols = [\"tenure\", 'MonthlyCharges', 'TotalCharges']\n",
    "for feat in num_cols: distplot(feat, df)"
   ]
  },
  {
   "cell_type": "code",
   "execution_count": null,
   "metadata": {
    "executionInfo": {
     "elapsed": 57421,
     "status": "aborted",
     "timestamp": 1759477503544,
     "user": {
      "displayName": "kiruthika k",
      "userId": "04105857708486248499"
     },
     "user_tz": -330
    },
    "id": "7s2oHrQwWNQB"
   },
   "outputs": [],
   "source": [
    "cat_cols_ohe =['PaymentMethod', 'Contract', 'InternetService'] # those that need one-hot encoding\n",
    "cat_cols_le = list(set(X_train.columns)- set(num_cols) - set(cat_cols_ohe)) #those that need label encoding\n",
    "scaler= StandardScaler()\n",
    "\n",
    "X_train[num_cols] = scaler.fit_transform(X_train[num_cols])\n",
    "X_test[num_cols] = scaler.transform(X_test[num_cols])"
   ]
  },
  {
   "cell_type": "markdown",
   "metadata": {
    "id": "9jkUjvIQKbtN"
   },
   "source": [
    "## LSTM"
   ]
  },
  {
   "cell_type": "code",
   "execution_count": null,
   "metadata": {
    "executionInfo": {
     "elapsed": 57415,
     "status": "aborted",
     "timestamp": 1759477503546,
     "user": {
      "displayName": "kiruthika k",
      "userId": "04105857708486248499"
     },
     "user_tz": -330
    },
    "id": "fBYwdKDWBXuB"
   },
   "outputs": [],
   "source": [
    "regressor = Sequential()\n",
    "# First LSTM layer with Dropout regularisation\n",
    "regressor.add(LSTM(units=50, return_sequences=True, input_shape=(X_train.shape[1], 1)))\n",
    "regressor.add(Dropout(0.2))\n",
    "# Second LSTM layer\n",
    "regressor.add(LSTM(units=50, return_sequences=True))\n",
    "regressor.add(Dropout(0.2))\n",
    "# Third LSTM layer\n",
    "regressor.add(LSTM(units=50, return_sequences=True))\n",
    "regressor.add(Dropout(0.2))\n",
    "# Fourth LSTM layer\n",
    "regressor.add(LSTM(units=50))\n",
    "regressor.add(Dropout(0.2))\n",
    "# The output layer\n",
    "regressor.add(Dense(units=1))\n",
    "\n",
    "# Compile the model\n",
    "regressor.compile(optimizer='adam', loss='binary_crossentropy', metrics=['accuracy'])\n",
    "\n",
    "# Train the model\n",
    "regressor.fit(X_train, y_train, epochs=10, batch_size=32)\n",
    "\n",
    "# Evaluate the model\n",
    "loss, accuracy = regressor.evaluate(X_test, y_test)\n",
    "print(f'Test Loss: {loss}, Test Accuracy: {accuracy}')"
   ]
  },
  {
   "cell_type": "markdown",
   "metadata": {
    "id": "Nfv8qaPqonw_"
   },
   "source": [
    "regressor.evaluate(X_test, y_test) indicates that the model was evaluated on 176 samples from the test dataset.\n",
    "\n",
    "Loss: The loss calculated during evaluation is approximately 4.09.\n",
    "Accuracy: The accuracy achieved on the test dataset is around  0.73."
   ]
  },
  {
   "cell_type": "code",
   "execution_count": null,
   "metadata": {
    "executionInfo": {
     "elapsed": 57410,
     "status": "aborted",
     "timestamp": 1759477503548,
     "user": {
      "displayName": "kiruthika k",
      "userId": "04105857708486248499"
     },
     "user_tz": -330
    },
    "id": "oseItlzZIQan"
   },
   "outputs": [],
   "source": [
    "regressor.evaluate(X_test, y_test)"
   ]
  },
  {
   "cell_type": "markdown",
   "metadata": {
    "id": "pi9sVkDvpRfo"
   },
   "source": [
    "here the model's predictions for the first three samples from the test dataset"
   ]
  },
  {
   "cell_type": "code",
   "execution_count": null,
   "metadata": {
    "executionInfo": {
     "elapsed": 57415,
     "status": "aborted",
     "timestamp": 1759477503560,
     "user": {
      "displayName": "kiruthika k",
      "userId": "04105857708486248499"
     },
     "user_tz": -330
    },
    "id": "mjeVbUBDIQhi"
   },
   "outputs": [],
   "source": [
    "yp = regressor.predict(X_test)\n",
    "yp[:3]"
   ]
  },
  {
   "cell_type": "markdown",
   "metadata": {
    "id": "TsmuEAuhrLaw"
   },
   "source": [
    " predicted by the model (yp) into binary churn predictions (0 or 1) based on a threshold of 0.5.\n",
    "\n",
    " For each predicted probability, if it's greater than 0.5, it means the model predicts churn (1), so it adds 1 to y_pred. Otherwise, if the probability is less than or equal to 0.5, it means the model predicts no churn (0), so it adds 0 to y_pred."
   ]
  },
  {
   "cell_type": "code",
   "execution_count": null,
   "metadata": {
    "executionInfo": {
     "elapsed": 57416,
     "status": "aborted",
     "timestamp": 1759477503562,
     "user": {
      "displayName": "kiruthika k",
      "userId": "04105857708486248499"
     },
     "user_tz": -330
    },
    "id": "p7CpvlWIIn1e"
   },
   "outputs": [],
   "source": [
    "#converting the yp into 0,1\n",
    "y_pred = []\n",
    "for element in yp:\n",
    "    if element > 0.5:\n",
    "        y_pred.append(1)\n",
    "    else:\n",
    "        y_pred.append(0)"
   ]
  },
  {
   "cell_type": "markdown",
   "metadata": {
    "id": "8F54mD4qsH2q"
   },
   "source": [
    "the first 10 elements\n",
    " 1 for positive predictions and 0 for negative predictions"
   ]
  },
  {
   "cell_type": "code",
   "execution_count": null,
   "metadata": {
    "executionInfo": {
     "elapsed": 57423,
     "status": "aborted",
     "timestamp": 1759477503575,
     "user": {
      "displayName": "kiruthika k",
      "userId": "04105857708486248499"
     },
     "user_tz": -330
    },
    "id": "VM5yFsfuIQnH"
   },
   "outputs": [],
   "source": [
    "y_pred[:10]"
   ]
  },
  {
   "cell_type": "markdown",
   "metadata": {
    "id": "k7QakxcPsJLE"
   },
   "source": [
    " the first 10 elements of the true churn labels stored in y_test."
   ]
  },
  {
   "cell_type": "code",
   "execution_count": null,
   "metadata": {
    "executionInfo": {
     "elapsed": 57421,
     "status": "aborted",
     "timestamp": 1759477503577,
     "user": {
      "displayName": "kiruthika k",
      "userId": "04105857708486248499"
     },
     "user_tz": -330
    },
    "id": "N7WY-vrFIsPi"
   },
   "outputs": [],
   "source": [
    "y_test[:10]"
   ]
  },
  {
   "cell_type": "code",
   "execution_count": null,
   "metadata": {
    "executionInfo": {
     "elapsed": 57447,
     "status": "aborted",
     "timestamp": 1759477503608,
     "user": {
      "displayName": "kiruthika k",
      "userId": "04105857708486248499"
     },
     "user_tz": -330
    },
    "id": "Wd8MXXQ-Iys2"
   },
   "outputs": [],
   "source": [
    "round((841+502)/(861+158+166+242),2)"
   ]
  },
  {
   "cell_type": "markdown",
   "metadata": {
    "id": "Jz5jstJKwPFH"
   },
   "source": [
    "accuracy_score(y_test, y_pred) calculates the accuracy score by comparing the predicted labels (y_pred) with the true labels (y_test).\n",
    "print(f'LSTM Accuracy score : {accuracy_score(y_test, y_pred)}')prints the accuracy score of the LSTM model."
   ]
  },
  {
   "cell_type": "code",
   "execution_count": null,
   "metadata": {
    "executionInfo": {
     "elapsed": 57445,
     "status": "aborted",
     "timestamp": 1759477503610,
     "user": {
      "displayName": "kiruthika k",
      "userId": "04105857708486248499"
     },
     "user_tz": -330
    },
    "id": "CuWyI_E4I1v-"
   },
   "outputs": [],
   "source": [
    "accuracy_lstm = accuracy_score(y_test,y_pred)\n",
    "print(f'LSTM Accuracy score : {accuracy_score(y_test,y_pred)}')"
   ]
  },
  {
   "cell_type": "markdown",
   "metadata": {
    "id": "1EKyOLH0wvkq"
   },
   "source": [
    "it generates a classification report, including precision, recall, F1-score, and support metrics, by comparing the true labels (y_test) with the predicted labels (y_pred).\n",
    "\n",
    "It then prints the classification report, displaying detailed metrics for each class"
   ]
  },
  {
   "cell_type": "code",
   "execution_count": null,
   "metadata": {
    "executionInfo": {
     "elapsed": 57441,
     "status": "aborted",
     "timestamp": 1759477503611,
     "user": {
      "displayName": "kiruthika k",
      "userId": "04105857708486248499"
     },
     "user_tz": -330
    },
    "id": "PmYDoy0T8iNL"
   },
   "outputs": [],
   "source": [
    "print(f'Classification report :\\n {classification_report(y_test,y_pred)}')"
   ]
  },
  {
   "cell_type": "code",
   "execution_count": null,
   "metadata": {
    "executionInfo": {
     "elapsed": 57457,
     "status": "aborted",
     "timestamp": 1759477503631,
     "user": {
      "displayName": "kiruthika k",
      "userId": "04105857708486248499"
     },
     "user_tz": -330
    },
    "id": "xHVCHJTc8m4I"
   },
   "outputs": [],
   "source": [
    "plt.figure(figsize=(4,3))\n",
    "sns.heatmap(confusion_matrix(y_pred, y_test),annot=True,fmt = \"d\",linecolor=\"k\",linewidths=3)\n",
    "\n",
    "plt.title(\"LSTM CONFUSION MATRIX\",fontsize=14)\n",
    "plt.xlabel('Predicted')\n",
    "plt.ylabel('Truth')\n",
    "plt.show()"
   ]
  },
  {
   "cell_type": "code",
   "execution_count": null,
   "metadata": {
    "executionInfo": {
     "elapsed": 57453,
     "status": "aborted",
     "timestamp": 1759477503633,
     "user": {
      "displayName": "kiruthika k",
      "userId": "04105857708486248499"
     },
     "user_tz": -330
    },
    "id": "pzhoXM0b3T7Z"
   },
   "outputs": [],
   "source": [
    "algorithms = ['Precision', 'Recall', 'F1 Score', 'Accuracy']\n",
    "accuracy_scores = [0.71, 0.74, 0.72, 0.84]\n",
    "plt.figure(figsize=(8, 6))\n",
    "plt.bar(algorithms, accuracy_scores, color=['red', 'yellow', 'green', 'blue'])\n",
    "plt.title('Performance metrics')\n",
    "plt.ylim(0.5, 1.0)\n",
    "for i in range(len(algorithms)):\n",
    "    plt.text(i, accuracy_scores[i], f'{accuracy_scores[i]:.2f}', ha='center', va='bottom')\n",
    "plt.tight_layout()\n",
    "plt.show()"
   ]
  },
  {
   "cell_type": "code",
   "execution_count": null,
   "metadata": {
    "executionInfo": {
     "elapsed": 57454,
     "status": "aborted",
     "timestamp": 1759477503636,
     "user": {
      "displayName": "kiruthika k",
      "userId": "04105857708486248499"
     },
     "user_tz": -330
    },
    "id": "4TlfH5UDBhpE"
   },
   "outputs": [],
   "source": []
  },
  {
   "cell_type": "code",
   "execution_count": null,
   "metadata": {
    "executionInfo": {
     "elapsed": 57454,
     "status": "aborted",
     "timestamp": 1759477503637,
     "user": {
      "displayName": "kiruthika k",
      "userId": "04105857708486248499"
     },
     "user_tz": -330
    },
    "id": "psdCv61KBiGN"
   },
   "outputs": [],
   "source": []
  },
  {
   "cell_type": "markdown",
   "metadata": {
    "id": "nq3ycxKGrtsW"
   },
   "source": [
    "## LOGISTIC REGRESSION"
   ]
  },
  {
   "cell_type": "code",
   "execution_count": null,
   "metadata": {
    "executionInfo": {
     "elapsed": 57492,
     "status": "aborted",
     "timestamp": 1759477503680,
     "user": {
      "displayName": "kiruthika k",
      "userId": "04105857708486248499"
     },
     "user_tz": -330
    },
    "id": "NVTuHO8KqFt8"
   },
   "outputs": [],
   "source": [
    "lr_model = LogisticRegression()\n",
    "lr_model.fit(X_train,y_train)\n",
    "accuracy_lr = lr_model.score(X_test,y_test)\n",
    "print(\"Logistic Regression accuracy is :\",accuracy_lr)"
   ]
  },
  {
   "cell_type": "code",
   "execution_count": null,
   "metadata": {
    "executionInfo": {
     "elapsed": 57547,
     "status": "aborted",
     "timestamp": 1759477503740,
     "user": {
      "displayName": "kiruthika k",
      "userId": "04105857708486248499"
     },
     "user_tz": -330
    },
    "id": "drK2eATYr1-6"
   },
   "outputs": [],
   "source": [
    "lr_pred= lr_model.predict(X_test)\n",
    "report = classification_report(y_test,lr_pred)\n",
    "print(report)"
   ]
  },
  {
   "cell_type": "code",
   "execution_count": null,
   "metadata": {
    "executionInfo": {
     "elapsed": 57545,
     "status": "aborted",
     "timestamp": 1759477503742,
     "user": {
      "displayName": "kiruthika k",
      "userId": "04105857708486248499"
     },
     "user_tz": -330
    },
    "id": "6LCaSQeZsAmD"
   },
   "outputs": [],
   "source": [
    "plt.figure(figsize=(4,3))\n",
    "sns.heatmap(confusion_matrix(y_test, lr_pred),\n",
    "                annot=True,fmt = \"d\",linecolor=\"k\",linewidths=3)\n",
    "\n",
    "plt.title(\"LOGISTIC REGRESSION CONFUSION MATRIX\",fontsize=14)\n",
    "plt.show()"
   ]
  },
  {
   "cell_type": "markdown",
   "metadata": {
    "id": "sssMdp40r4my"
   },
   "source": [
    "## DECISION TREE"
   ]
  },
  {
   "cell_type": "code",
   "execution_count": null,
   "metadata": {
    "executionInfo": {
     "elapsed": 57542,
     "status": "aborted",
     "timestamp": 1759477503744,
     "user": {
      "displayName": "kiruthika k",
      "userId": "04105857708486248499"
     },
     "user_tz": -330
    },
    "id": "1eT4BqngqnTQ"
   },
   "outputs": [],
   "source": [
    "dt_model = DecisionTreeClassifier()\n",
    "dt_model.fit(X_train,y_train)\n",
    "predictdt_y = dt_model.predict(X_test)\n",
    "accuracy_dt = dt_model.score(X_test,y_test)\n",
    "print(\"Decision Tree accuracy is :\",accuracy_dt)\n"
   ]
  },
  {
   "cell_type": "code",
   "execution_count": null,
   "metadata": {
    "executionInfo": {
     "elapsed": 57539,
     "status": "aborted",
     "timestamp": 1759477503745,
     "user": {
      "displayName": "kiruthika k",
      "userId": "04105857708486248499"
     },
     "user_tz": -330
    },
    "id": "arVAYSN_r827"
   },
   "outputs": [],
   "source": [
    "print(classification_report(y_test, predictdt_y))"
   ]
  },
  {
   "cell_type": "code",
   "execution_count": null,
   "metadata": {
    "executionInfo": {
     "elapsed": 57536,
     "status": "aborted",
     "timestamp": 1759477503746,
     "user": {
      "displayName": "kiruthika k",
      "userId": "04105857708486248499"
     },
     "user_tz": -330
    },
    "id": "Ek29JceAsGoT"
   },
   "outputs": [],
   "source": [
    "plt.figure(figsize=(4,3))\n",
    "sns.heatmap(confusion_matrix(y_test, predictdt_y),\n",
    "                annot=True,fmt = \"d\",linecolor=\"k\",linewidths=3)\n",
    "\n",
    "plt.title(\"DECISION TREE CONFUSION MATRIX\",fontsize=14)\n",
    "plt.show()"
   ]
  },
  {
   "cell_type": "markdown",
   "metadata": {
    "id": "d_Exa_hjsjMQ"
   },
   "source": [
    "## KNN"
   ]
  },
  {
   "cell_type": "code",
   "execution_count": null,
   "metadata": {
    "executionInfo": {
     "elapsed": 57533,
     "status": "aborted",
     "timestamp": 1759477503748,
     "user": {
      "displayName": "kiruthika k",
      "userId": "04105857708486248499"
     },
     "user_tz": -330
    },
    "id": "CEp4WIO-skuy"
   },
   "outputs": [],
   "source": [
    "knn_model = KNeighborsClassifier(n_neighbors = 11)\n",
    "knn_model.fit(X_train,y_train)\n",
    "predicted_y = knn_model.predict(X_test)\n",
    "accuracy_knn = knn_model.score(X_test,y_test)\n",
    "print(\"KNN accuracy:\",accuracy_knn)"
   ]
  },
  {
   "cell_type": "code",
   "execution_count": null,
   "metadata": {
    "executionInfo": {
     "elapsed": 57530,
     "status": "aborted",
     "timestamp": 1759477503749,
     "user": {
      "displayName": "kiruthika k",
      "userId": "04105857708486248499"
     },
     "user_tz": -330
    },
    "id": "DAGM6fGtsm2U"
   },
   "outputs": [],
   "source": [
    "print(classification_report(y_test, predicted_y))"
   ]
  },
  {
   "cell_type": "code",
   "execution_count": null,
   "metadata": {
    "executionInfo": {
     "elapsed": 57527,
     "status": "aborted",
     "timestamp": 1759477503751,
     "user": {
      "displayName": "kiruthika k",
      "userId": "04105857708486248499"
     },
     "user_tz": -330
    },
    "id": "W1Z62zZ_srOc"
   },
   "outputs": [],
   "source": [
    "plt.figure(figsize=(4,3))\n",
    "sns.heatmap(confusion_matrix(y_test, y_pred),\n",
    "                annot=True,fmt = \"d\",linecolor=\"k\",linewidths=3)\n",
    "\n",
    "plt.title(\" KNN CONFUSION MATRIX\",fontsize=14)\n",
    "plt.show()"
   ]
  },
  {
   "cell_type": "markdown",
   "metadata": {
    "id": "_2K2W984s2rU"
   },
   "source": [
    "## RANDOM FOREST"
   ]
  },
  {
   "cell_type": "code",
   "execution_count": null,
   "metadata": {
    "executionInfo": {
     "elapsed": 57524,
     "status": "aborted",
     "timestamp": 1759477503752,
     "user": {
      "displayName": "kiruthika k",
      "userId": "04105857708486248499"
     },
     "user_tz": -330
    },
    "id": "8OW25QJts4dR"
   },
   "outputs": [],
   "source": [
    "model_rf = RandomForestClassifier(n_estimators=500 , oob_score = True, n_jobs = -1,\n",
    "                                  random_state =50, max_features = \"auto\",\n",
    "                                  max_leaf_nodes = 30)\n",
    "model_rf.fit(X_train, y_train)\n",
    "prediction_test = model_rf.predict(X_test)\n",
    "accuracy_rf = model_rf.score(X_test,y_test)\n",
    "print(\"Random Forest accuracy:\",accuracy_rf)"
   ]
  },
  {
   "cell_type": "code",
   "execution_count": null,
   "metadata": {
    "executionInfo": {
     "elapsed": 57520,
     "status": "aborted",
     "timestamp": 1759477503754,
     "user": {
      "displayName": "kiruthika k",
      "userId": "04105857708486248499"
     },
     "user_tz": -330
    },
    "id": "YPY7xUANs7Li"
   },
   "outputs": [],
   "source": [
    "print(classification_report(y_test, prediction_test))"
   ]
  },
  {
   "cell_type": "code",
   "execution_count": null,
   "metadata": {
    "executionInfo": {
     "elapsed": 57517,
     "status": "aborted",
     "timestamp": 1759477503755,
     "user": {
      "displayName": "kiruthika k",
      "userId": "04105857708486248499"
     },
     "user_tz": -330
    },
    "id": "183VCyuts-2r"
   },
   "outputs": [],
   "source": [
    "plt.figure(figsize=(4,3))\n",
    "sns.heatmap(confusion_matrix(y_test, prediction_test),\n",
    "                annot=True,fmt = \"d\",linecolor=\"k\",linewidths=3)\n",
    "\n",
    "plt.title(\"RANDOM FOREST CONFUSION MATRIX\",fontsize=14)\n",
    "plt.show()"
   ]
  },
  {
   "cell_type": "markdown",
   "metadata": {
    "id": "ZOnLUsG33RbX"
   },
   "source": [
    "## COMPARISION"
   ]
  },
  {
   "cell_type": "code",
   "execution_count": null,
   "metadata": {
    "executionInfo": {
     "elapsed": 57513,
     "status": "aborted",
     "timestamp": 1759477503756,
     "user": {
      "displayName": "kiruthika k",
      "userId": "04105857708486248499"
     },
     "user_tz": -330
    },
    "id": "Wjo6PEl8Qnu8"
   },
   "outputs": [],
   "source": [
    "import matplotlib.pyplot as plt\n",
    "\n",
    "# Define algorithm names and their corresponding accuracy scores\n",
    "algorithms = [\"LSTM\", \"Logistic Regression\", \"Decision Tree\", \"K-Nearest Neighbors\", \"Random Forest\"]\n",
    "accuracy_scores = [accuracy_lstm, accuracy_lr, accuracy_dt, accuracy_knn, accuracy_rf]\n",
    "\n",
    "# Create bar graph\n",
    "plt.figure(figsize=(10, 6))\n",
    "plt.bar(algorithms, accuracy_scores, color=['blue', 'green', 'red', 'purple', 'orange'])\n",
    "\n",
    "# Display values on top of bars\n",
    "for i in range(len(algorithms)):\n",
    "    plt.text(i, accuracy_scores[i], round(accuracy_scores[i], 4), ha='center', va='bottom')\n",
    "\n",
    "# Add titles and labels\n",
    "plt.title('Accuracy Scores of Different Algorithms')\n",
    "plt.xlabel('Algorithms')\n",
    "plt.ylabel('Accuracy')\n",
    "plt.ylim(0, 1)  # Set y-axis limit to ensure accuracy scores are within the plot range\n",
    "plt.xticks(rotation=45)  # Rotate x-axis labels for better readability\n",
    "plt.tight_layout()\n",
    "\n",
    "# Show the plot\n",
    "plt.show()"
   ]
  },
  {
   "cell_type": "code",
   "execution_count": null,
   "metadata": {
    "executionInfo": {
     "elapsed": 57509,
     "status": "aborted",
     "timestamp": 1759477503758,
     "user": {
      "displayName": "kiruthika k",
      "userId": "04105857708486248499"
     },
     "user_tz": -330
    },
    "id": "VWcPN9q-RlwN"
   },
   "outputs": [],
   "source": [
    "models = pd.DataFrame({'Model': ['LSTM', 'Logistic Regression', 'Decision tree','KNN', 'Random forest'],\n",
    "                       'Score': [accuracy_lstm, accuracy_lr, accuracy_dt, accuracy_knn, accuracy_rf]})\n",
    "\n",
    "models.sort_values(by = 'Score', ascending = False, ignore_index = True)"
   ]
  }
 ],
 "metadata": {
  "colab": {
   "authorship_tag": "ABX9TyPULEEAaNby1CGmmMvMMPdo",
   "provenance": []
  },
  "kernelspec": {
   "display_name": "Python 3",
   "name": "python3"
  },
  "language_info": {
   "name": "python"
  }
 },
 "nbformat": 4,
 "nbformat_minor": 0
}
